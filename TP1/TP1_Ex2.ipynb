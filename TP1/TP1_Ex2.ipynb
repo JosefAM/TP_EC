{
 "cells": [
  {
   "cell_type": "markdown",
   "id": "51a56e90-27a7-4489-9ba8-5c477b3b75d2",
   "metadata": {},
   "source": [
    "# Exercício 2:\n",
    "\n",
    "Neste exercício foi nos pedido que implementassemos um algoritmo de codificação com um modo semelhante a uma cifra *one-time pad*. Por outras palavras, é esperado que seja desenvolvida uma cifra que, dada uma _\"chave\"_, deverá realizar a operação XOR entre a mensagem que se pretende partilhar e a _\"chave\"_.\n",
    "\n",
    "Esta cifra deve apresentar um comportamento semelhante ao das cifras em bloco, dado que a mensagem deverá ser dividida em blocos de 64 bits, e cada um destes blocos deverá ser cifrado com um bloco da _\"chave\"_.\n",
    "\n",
    "Esta _\"chave\"_ será obtida utilizando um gerador definido recorrendo à função hash SHAKE-256. Este gerador terá uma seed definida em função de uma password. \n",
    "\n",
    "Adicionalmente, esta cifra deverá implementar uma autenticação de metadados e, para tal, iremos utilizar o algoritmo _HMAC_. Este algortimo permite-nos fazer autenticação da mensagem. Uma vez que o algoritmo utilizado não requer o uso de metadados, iremos criar um pacote que associe metadados ao texto cifrado e fazer a autenticação deste.\n",
    "\n",
    "Para resolvermos este exercicio iremos utilizar funções que se encontram disponiveis na biblioteca **Cryptography**."
   ]
  },
  {
   "cell_type": "code",
   "execution_count": 1,
   "id": "5551f5df-394d-4cac-a603-35781cc87283",
   "metadata": {},
   "outputs": [],
   "source": [
    "## Imports:\n",
    "import os\n",
    "from pickle import dumps, loads\n",
    "from cryptography.hazmat.primitives.kdf.hkdf import HKDF\n",
    "from cryptography.hazmat.primitives.kdf.pbkdf2 import PBKDF2HMAC\n",
    "from cryptography.hazmat.primitives.hashes import SHAKE256\n",
    "from cryptography.hazmat.primitives import hashes, padding, hmac"
   ]
  },
  {
   "cell_type": "markdown",
   "id": "f136b3c8-1f13-4ad0-8544-40ee66a6944e",
   "metadata": {},
   "source": [
    "## Gerador de uma _seed_\n",
    "\n",
    "Como já foi mencionado para a nossa implementação, iremos precisar de obter uma seed que será aplicada a um gerador pseudo-aleatório. O output deste será, posteriormente, utilizado numa operação XOR.\n",
    "\n",
    "Para obtermos esta seed, utilizaremos um algoritmo KDF (key derivation function). A este algoritmo será passada uma password escolhida pelo utilizador. Para além disto, este algoritmo deverá receber um length e um salt. O salt será um número random, e o length será 32. A seed gerada será a nossa **cipher_key**."
   ]
  },
  {
   "cell_type": "code",
   "execution_count": 2,
   "id": "336a6e7a-0188-444b-8598-ad73e6d31dec",
   "metadata": {},
   "outputs": [],
   "source": [
    "# Função que permite derivar uma seed de uma password:\n",
    "def generateSeed(pwd):\n",
    "    salt = os.urandom(16)\n",
    "    length = 32 # Length in bytes das chaves derivadas\n",
    "    \n",
    "    kdf = PBKDF2HMAC(algorithm=hashes.SHA3_256(), \n",
    "                      length=length,\n",
    "                      salt=salt,\n",
    "                      iterations = 480000,\n",
    "                     )\n",
    "    seed = kdf.derive(pwd)\n",
    "    \n",
    "    return seed"
   ]
  },
  {
   "cell_type": "markdown",
   "id": "65e99495-7882-441d-b266-9a3897b0715d",
   "metadata": {},
   "source": [
    "## Gerador pseudo-aleatório\n",
    "\n",
    "Como já referimos, será necessário utilizar um gerador pseudo-aleatório para obter uma \"chave\" que será utilizado na codificação/descodificação da mensagem. Para tal, iremos utilizar como gerador pseudo-aleatório a função hash SHAKE-256. A esta função será passada a cipher_key (seed). A utilização de uma seed é crucial, uma vez que será necessário que ambos os participantes possam obter o mesmo output de um gerador, dado que se estes forem diferentes poderá não ser possível descodificar a mensagem.\n",
    "\n",
    "Este gerador deverá gerar 2^n palavras, tal como foi especificado no enunciado. Sabendo que um bloco terá o tamanho de 64 bits (8bytes) e cada palavra deverá ter o mesmo tamanho que um bloco, precisamos, portanto, de um gerador cujo output é 2^n * 8 bytes."
   ]
  },
  {
   "cell_type": "code",
   "execution_count": 3,
   "id": "94e8a837-cbd6-41e9-b5f0-a8ed74329e54",
   "metadata": {},
   "outputs": [],
   "source": [
    "# Função com um gerador pseudo-aleatório que gera um output com 2^n * 8 bits\n",
    "def generator(n, seed):\n",
    "    digest = hashes.Hash(hashes.SHAKE256(2**n*8))\n",
    "    \n",
    "    digest.update(seed) # Define seed\n",
    "    \n",
    "    output = digest.finalize() \n",
    "    return output"
   ]
  },
  {
   "cell_type": "markdown",
   "id": "b486ee07-502c-43a4-a2d1-6d9387a7cb5e",
   "metadata": {},
   "source": [
    "## Padding\n",
    "\n",
    "Dado que estamos a trabalhar com uma cifra simétrica de blocos, uma parte essencial do modo desta cifra é garantir que todos os blocos tem o mesmo tamanho fixo. Neste caso, o tamanho fixo será 64 bits.\n",
    "\n",
    "Dado que não é garantido que a mensagem tenha um tamanho divisivel por 8 bytes, poderá ser necessário implementar algoritmos para adicionar algum tipo de padding ao último bloco da mensagem. Assim, de seguida, apresentamos as funções de adicionar e remover padding."
   ]
  },
  {
   "cell_type": "code",
   "execution_count": 4,
   "id": "eb3d3c33-4200-4f59-9fb1-f63d5bb39d81",
   "metadata": {
    "tags": []
   },
   "outputs": [],
   "source": [
    "# Função que acrescenta bytes ao último bloco de uma mensagem, para que esta tenha o tamanho size_block\n",
    "def pad(last_block, size_block):\n",
    "    padding_val = size_block - len(last_block)\n",
    "    \n",
    "    last_block = bytes(last_block,'utf-8')\n",
    "    \n",
    "    #Padder precisa de conhecer o número de bits que este deve acrescentar\n",
    "    padder = padding.PKCS7(padding_val*8).padder()\n",
    "    last_block = padder.update(last_block)\n",
    "    last_block += padder.finalize()\n",
    "    \n",
    "    last_block = last_block.decode(\"utf-8\")\n",
    "    \n",
    "    return last_block, padding_val\n",
    "\n",
    "\n",
    "# Função que permite remover os bytes de padding do último bloco\n",
    "def unpad(last_block, size_padding):\n",
    "    \n",
    "    last_block = bytes(last_block,'utf-8')\n",
    "    \n",
    "    # Unpadder precisa de conhecer o número de bits que deverá remover\n",
    "    unpadder = padding.PKCS7(size_padding*8).unpadder()\n",
    "        \n",
    "    last_block = unpadder.update(last_block)\n",
    "    last_block += unpadder.finalize()\n",
    "    \n",
    "    last_block = last_block.decode(\"utf-8\")\n",
    "    \n",
    "    return last_block"
   ]
  },
  {
   "cell_type": "markdown",
   "id": "643e823f-c483-4e98-80d5-79cad32fd620",
   "metadata": {},
   "source": [
    "## Cifrar a mensagem\n",
    "\n",
    "De seguida iremos implementar a função de codificação. Para tal, após obter a seed em função da password, será necessário gerar a \"chave\" utilizando o gerador pseudo-aleatório desenvolvido anteriormente.\n",
    "\n",
    "A mensagem a cifrar e a \"chave\" a utilizar deverão ser partidas em blocos e a cada bloco será aplicada a operação XOR. Sabendo que em python um char corresponde a um byte, e que 64 bits equivale a 8 bytes, devemos dividir uma mensagem em blocos de 8 chars. O resultado da operação XOR entre cada bloco da mensagem e output do gerador, será concatenado para obtermos o texto cifrado.\n",
    "\n",
    "Ao último bloco da mensagem poderá ser aplicado o padding, caso este tamanho tamanho inferior ao fixado.\n",
    "\n",
    "Por último, após a mensagem ter sido cifrada, será criado um package com metadados aleatórios. De forma, a implementar uma certa autenticação de metadados, será gerado um valor HMAC do package criado, que será verificado à receção da mensagem.\n",
    "\n",
    "A mensagem enviada conterá o texto cifrado, metadados e o número de bytes de padding adicionados ao último bloco do plaintext. Posteriormente, será gerado o valor HMAC que será também enviado. "
   ]
  },
  {
   "cell_type": "code",
   "execution_count": 5,
   "id": "3135e1a7-e180-4754-968b-d5a90dbf408c",
   "metadata": {},
   "outputs": [],
   "source": [
    "def encrypt(msg, cipher_key, n):       \n",
    "    Nbytes = 8\n",
    "    \n",
    "    # obtem um output a partir de um gerador pseudo-random cuja seed é a cipher_key\n",
    "    output = generator(n, cipher_key)\n",
    "    \n",
    "    # partir a mensagem em blocos de Nbytes\n",
    "    block_plaintext = [msg[i:i+Nbytes] for i in range(0, len(msg), Nbytes)]    \n",
    "    \n",
    "    # se o length da mensagem não for divisivel por 0\n",
    "    # é necessário acrescentar padding à última mensagem\n",
    "    mod = len(msg) % Nbytes\n",
    "    if(mod > 0): \n",
    "        coef = len(msg) // Nbytes\n",
    "        padded_block, padded_size = pad(block_plaintext[coef], Nbytes)\n",
    "        block_plaintext[coef] = padded_block\n",
    "    else:\n",
    "        padded_size = 0\n",
    "    \n",
    "    # partir o output do gerador em blocos de 8 bytes\n",
    "    block_output = [output[i:i+Nbytes] for i in range(0, len(output), Nbytes)]     \n",
    "  \n",
    "    # aplicar a operação XOR a cada bloco da mensagem e a cada bloco do output do gerador\n",
    "    cipher = opXOR(block_plaintext, block_output)\n",
    "        \n",
    "    # obter valores random que serão utilizados como metadados/ associated data\n",
    "    metadata = os.urandom(16) \n",
    "    \n",
    "    # mensagem que será enviada com o texto cifrado, metadata e tamanho do padding\n",
    "    msg = {\"ciphertext\" : cipher, \"metadata\": metadata, \"padsize\": padded_size}\n",
    "   \n",
    "    # obter um valor hmac para a mensagem obtida anteriormente\n",
    "    # para tal iremos utilizar a cipher_key\n",
    "    h = hmac.HMAC(cipher_key, hashes.SHA3_256())\n",
    "    h.update(dumps(msg))\n",
    "    Hmac = h.finalize()\n",
    "    \n",
    "    pkg = {'msg': dumps(msg) , 'hmac': Hmac}\n",
    "    return pkg"
   ]
  },
  {
   "cell_type": "markdown",
   "id": "d06b7857-bcc0-48d9-848d-ea5ae9368b57",
   "metadata": {},
   "source": [
    "Utilizaremos esta função auxiliar tanto para decifrar como para cifrar, dado que esta permite aplicar a operação XOR a dois conjuntos de blocos:"
   ]
  },
  {
   "cell_type": "code",
   "execution_count": 6,
   "id": "2849e99e-dbd9-4149-8a9b-d1882f47df14",
   "metadata": {},
   "outputs": [],
   "source": [
    "# msg, key are sepated in blocks\n",
    "def opXOR(msg, key):\n",
    "    output = \"\"\n",
    "    for msg_block, key_block in zip(msg, key):\n",
    "        for i, j in zip(msg_block, key_block):\n",
    "            word = ord(i) ^ j # Xor needs to be used between chars\n",
    "            output += chr(word) # Guardar esta word\n",
    "    return output"
   ]
  },
  {
   "cell_type": "markdown",
   "id": "61611955-6df7-4610-8ab2-570ce1229a72",
   "metadata": {},
   "source": [
    "## Decifrar a mensagem\n",
    "\n",
    "De forma a completar o modo da cifra é necessário implementar o método de decifrar o texto cifrado recebido. Para que esta descodificação seja possível, é necessário que o participante que pretende executar essa funcionalidade já tenha conhecimento da chave usada para codificar a mensagem. Assim, este deverá receber a **cipher_key** usada para cifrar o plaintext.\n",
    "\n",
    "Com o package recebido, deverá ser feita uma verificação do valor do HMAC. Para tal, será obtido o valor do HMAC da mensagem e comparado com o valor HMAC recebido no package. Se estes forem diferentes, a operação deverá ser interrompida, senão esta deverá continuar normalmente.\n",
    "\n",
    "Com a **cipher_key**, deverá ser obtido o resultado de um gerador pseudo-aleatório. Com este resultado, iremos executar uma operação XOR a blocos de 64 bits do ciphertext e a 64 bits do output do gerador.\n",
    "\n",
    "Adicionalmente, se for indicado que a mensagem tem bytes de padding, estes deverão ser removidos antes que o plaintext seja apresentado."
   ]
  },
  {
   "cell_type": "code",
   "execution_count": 7,
   "id": "130f3a41-c18f-43c4-b8b2-53995c09dc68",
   "metadata": {},
   "outputs": [],
   "source": [
    "def decrypt(pkg, cipher_key, n):\n",
    "    Nbytes = 8\n",
    "    \n",
    "    hmac_rcv = pkg['hmac']\n",
    "    msg = loads(pkg['msg'])\n",
    "        \n",
    "    ct = msg['ciphertext']\n",
    "    meta = msg['metadata']\n",
    "    padded_size = msg['padsize']\n",
    "        \n",
    "    # obter o valor hmac para a mensagem (ciphertext, metadata, padsize) recebido\n",
    "    h = hmac.HMAC(cipher_key, hashes.SHA3_256())\n",
    "    h.update(dumps(msg))\n",
    "    HMAC = h.finalize()\n",
    "    \n",
    "    # compara o valor de hmac recebido e hmac determinado nesta função\n",
    "    # se os valores hmac forem distintos, a função deverá abortar\n",
    "    if(hmac_rcv == HMAC):\n",
    "        print(\" * HMAC verified. * \")\n",
    "    else:\n",
    "        print(\" * HMAC invalid. Aborting. * \")\n",
    "        return\n",
    "    \n",
    "    # obtem um output de um gerador pseudo-aleatório cuja seed é cipher_key\n",
    "    output = generator(n, cipher_key)\n",
    "    \n",
    "    # parte o texto cifrado recebido em blocos de Nbytes\n",
    "    block_ciphertext = [ct[i:i+Nbytes] for i in range(0, len(ct), Nbytes)]     \n",
    "    \n",
    "    # separa o output do PRG em blocks de Nbytes\n",
    "    block_output = [output[i:i+Nbytes] for i in range(0, len(output), Nbytes)]  \n",
    "    \n",
    "    # se a mensagem tiver sido padded, o último bloco será argumento da função XOR separadamente\n",
    "    # da restante ciphertext, dado que é necessário remover o padding antes de poder adicionar\n",
    "    # o último bloco de plaintext à string final\n",
    "    if(padded_size > 0):\n",
    "        plaintext = opXOR(block_ciphertext[:-1], block_output[:-1])\n",
    "        coef = len(ct) // Nbytes\n",
    "        last_cipherblock = block_ciphertext[coef]\n",
    "        last_outputblock = block_output[coef]\n",
    "        last_plainblock = opXOR([last_cipherblock], [last_outputblock])\n",
    "        unpadded_block = unpad(last_plainblock, padded_size)\n",
    "        plaintext += unpadded_block\n",
    "    else: # Se não existirem bytes de padding, todo o ciphertext será argumento da função XOR.\n",
    "        plaintext = opXOR(block_ciphertext, block_output)    \n",
    "    \n",
    "    return plaintext"
   ]
  },
  {
   "cell_type": "markdown",
   "id": "0716e844-4cb2-4e72-b2e1-8bbc6429e594",
   "metadata": {},
   "source": [
    "## Função Principal\n",
    "\n",
    "Por último, definimos uma função que engloba todo o processo definido anteriormente. Nesta função teremos uma chamada da função de cifragem e uma chamada à função de decifragem, permitindo-nos testar se os métodos se encontram corretamente desenvolvidos. Se este for o caso deverá ser possível verificar que a mensagem plaintext é igual à mensagem introduzida."
   ]
  },
  {
   "cell_type": "code",
   "execution_count": 8,
   "id": "3e6c5d50-6c27-416e-98c1-e3073f2cb14e",
   "metadata": {},
   "outputs": [],
   "source": [
    "def ex2(pwd, n, msg):\n",
    "    \n",
    "    # gerar uma seed em função da password\n",
    "    cipher_key = generateSeed(bytes(pwd, 'utf-8'))\n",
    "    \n",
    "    # execução do algoritmo de codificação\n",
    "    pkg = encrypt(msg, cipher_key, n)\n",
    "    msg_cipher = pkg['msg']\n",
    "    ciphertext = loads(msg_cipher)['ciphertext']\n",
    "    print(\"> CIPHERTEXT: \"+ciphertext+\"\\n\")\n",
    "    \n",
    "    # execução do algoritmo de descodificação\n",
    "    plaintext = decrypt(pkg, cipher_key, n)\n",
    "    print(\"> PLAINTEXT: \"+plaintext)"
   ]
  },
  {
   "cell_type": "markdown",
   "id": "2ed0fb57-5140-4986-ae93-15cd1c2f7c1d",
   "metadata": {},
   "source": [
    "## Testes da implementação"
   ]
  },
  {
   "cell_type": "code",
   "execution_count": 9,
   "id": "44578840-718a-481c-8716-91627031f893",
   "metadata": {},
   "outputs": [
    {
     "name": "stdout",
     "output_type": "stream",
     "text": [
      "> CIPHERTEXT: dý\u0004¸-^5î{ôtPÿäs(o¦ÕÍ¿\u0015·øPýÌä¶a&ÃtSH±¾½1¯«6ÇF¾ã¤yù\u001b9kmªIµþ\u0016°5ZûäYWfeï\n",
      "\n",
      " * HMAC verified. * \n",
      "> PLAINTEXT: Esta mensagem é apenas um teste para verificar o funcionamento do programa.\n"
     ]
    }
   ],
   "source": [
    "ex2(\"password\", 10, \"Esta mensagem é apenas um teste para verificar o funcionamento do programa.\")"
   ]
  },
  {
   "cell_type": "code",
   "execution_count": 10,
   "id": "c5107c3b-1fd7-47cc-bba6-2701a9878b7d",
   "metadata": {
    "tags": []
   },
   "outputs": [
    {
     "name": "stdout",
     "output_type": "stream",
     "text": [
      "> CIPHERTEXT: \u001aÿ|Q$m¡V<{<CÖç\u0015\u0004QØÝiE\n",
      "5÷\u0013É¯ÜXY¼k0¡çÿmrtÈU¼W\n",
      "\n",
      " * HMAC verified. * \n",
      "> PLAINTEXT: Vamos testar uma mensagem que não tenham padding\n"
     ]
    }
   ],
   "source": [
    "ex2(\"dg45sSaho8I2\", 7, \"Vamos testar uma mensagem que não tenham padding\")"
   ]
  }
 ],
 "metadata": {
  "kernelspec": {
   "display_name": "Python 3 (ipykernel)",
   "language": "python",
   "name": "python3"
  },
  "language_info": {
   "codemirror_mode": {
    "name": "ipython",
    "version": 3
   },
   "file_extension": ".py",
   "mimetype": "text/x-python",
   "name": "python",
   "nbconvert_exporter": "python",
   "pygments_lexer": "ipython3",
   "version": "3.10.9"
  }
 },
 "nbformat": 4,
 "nbformat_minor": 5
}
