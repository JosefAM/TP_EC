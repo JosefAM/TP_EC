{
 "cells": [
  {
   "cell_type": "markdown",
   "id": "51a56e90-27a7-4489-9ba8-5c477b3b75d2",
   "metadata": {},
   "source": [
    "# Exercício 2:\n",
    "\n",
    "Neste exercício foi nos pedido que implementassemos um algoritmo de codificação com um modo semelhante a uma cifra *one-time pad*. Por outras palavras, é esperado que seja desenvolvida que dada uma \"chave\" deverá realizar a operação XOR entre a mensagem que se pretende partilhar e a \"chave\".\n",
    "\n",
    "Esta cifra deve apresentar um comportamento semelhante ao das cifras em bloco, dado que a mensagem deverá ser dividida em blocos de 64 bits, e cada um destes blocos deverá ser cifrado com um bloco da \"chave\".\n",
    "\n",
    "Esta \"chave\" será obtida utilizando um gerador definido recorrendo à função hash SHAKE-256. Este gerador terá uma seed definida em função de uma password. \n",
    "\n",
    "**Deverá ser também implementada uma autenticação de metadados.**\n",
    "**Aparte: Não deveremos usar a mesma chave para cada bocado da mensagem. Como tipicamente, algoritmos criptográficos estão disponiveis para qualquer pessoa, um atacante pode descobrir a chave que estou a utilizar num algoritmo one-time pad se este for utilizada muitas vezes. Portanto, devemos associar a cada bloco do plaintext um bloco de output diferente. **\n",
    "\n",
    "Adicionalmente, esta cifra deverá implementar uma autenticação de metadados. Para tal, iremos utilizar...."
   ]
  },
  {
   "cell_type": "code",
   "execution_count": 1,
   "id": "5551f5df-394d-4cac-a603-35781cc87283",
   "metadata": {},
   "outputs": [],
   "source": [
    "## Imports:\n",
    "import os\n",
    "from cryptography.hazmat.primitives.kdf.hkdf import HKDF\n",
    "from cryptography.hazmat.primitives.kdf.pbkdf2 import PBKDF2HMAC\n",
    "from cryptography.hazmat.primitives.hashes import SHAKE256\n",
    "from cryptography.hazmat.primitives import hashes, padding"
   ]
  },
  {
   "cell_type": "markdown",
   "id": "f136b3c8-1f13-4ad0-8544-40ee66a6944e",
   "metadata": {},
   "source": [
    "## Gerador de uma seed:\n",
    "\n",
    "Para esta implementação, como já foi mencionado para a nossa implementação, iremos obter uma seed que será aplicado ao gerador para obter a \"chave\".\n",
    "\n",
    "Para obtermos esta seed, utilizaremos um algoritmo KDF (key derivation function). Ao algoritmo KDF será introduzida uma password escolhida pelo utilizador. PAra além disto, este algoritmo deverá receber um length e um salt. O salt será um número random, **e o length será 8**.\n",
    "\n",
    "A seed gerada será a nossa **cipher_key**.\n",
    "\n",
    "Utilizamos o PBKDF2HMAC porque ....."
   ]
  },
  {
   "cell_type": "code",
   "execution_count": 2,
   "id": "336a6e7a-0188-444b-8598-ad73e6d31dec",
   "metadata": {},
   "outputs": [],
   "source": [
    "def generateSeed(pwd):\n",
    "    salt = os.urandom(16)\n",
    "    length = 32 # Length in bytes das chaves derivadas\n",
    "    \n",
    "    kdf = PBKDF2HMAC(algorithm=hashes.SHA256(), \n",
    "                      length=length,\n",
    "                      salt=salt,\n",
    "                      iterations = 480000,\n",
    "                     )\n",
    "     \n",
    "    seed = kdf.derive(pwd)\n",
    "    \n",
    "    return seed"
   ]
  },
  {
   "cell_type": "markdown",
   "id": "65e99495-7882-441d-b266-9a3897b0715d",
   "metadata": {},
   "source": [
    "## Gerador Pseudo-aleatório:\n",
    "\n",
    "Como já referimos, será necessário utilizar um gerador pseudo-aleatório para obter uma chave que será utilizado na codificação/descodificação da mensagem. Para tal, iremos utilizar a função hash SHAKE-256. A esta função será passada a cipher_key (seed). Isto será crucial, uma vez que será necessário que ambos os participantes possam obter a mesma chave uma vez que se a chave for diferente estes poderão não ser capazes de descodificar a mensagem.\n",
    "\n",
    "Este gerador deverá gerar 2^n palavras, tal como foi especificado no enunciado. **Dado que um bloco terá o tamanho de 64 bits (8bytes), cada palavra deverá ter o mesmo tamanho que um bloco, portanto, precisamos de um gerador cujo output é 2^n * 8 bytes. **"
   ]
  },
  {
   "cell_type": "code",
   "execution_count": 3,
   "id": "94e8a837-cbd6-41e9-b5f0-a8ed74329e54",
   "metadata": {},
   "outputs": [],
   "source": [
    "# Function that creates a generator with max 2^n words of 8 bytes.\n",
    "def generator(n, seed):\n",
    "    digest = hashes.Hash(hashes.SHAKE256(2**n*8))\n",
    "    \n",
    "    digest.update(seed) # Define seed\n",
    "    \n",
    "    gen = digest.finalize()\n",
    "    return gen"
   ]
  },
  {
   "cell_type": "markdown",
   "id": "643e823f-c483-4e98-80d5-79cad32fd620",
   "metadata": {},
   "source": [
    "## Cifrar:\n",
    "\n",
    "De seguida iremos implementar a funcionalida de cifrar. Para tal será necessário, gerar a \"chave\" utilizando o gerador pseudo-aleatório desenvolvido anteriormente, após obter uma seed em função de uma password.\n",
    "\n",
    "A mensagem a cifrar e a \"chave\" a utilizar deverão ser partidas em blocos e a cada bloco será aplicada a operação XOR.\n",
    "\n",
    "Sabendo que em python um char corresponde a um byte, e que 64 bits equivale a 8 bytes, devemos dividir uma mensagem em blocos de 8 chars.\n",
    "\n",
    "**Explicar Padding**\n",
    "\n",
    "**Juntamente com a mensagem foram também enviados metadados, de forma a que a cifra possua também autenticação de meta-dados**"
   ]
  },
  {
   "cell_type": "code",
   "execution_count": 4,
   "id": "3135e1a7-e180-4754-968b-d5a90dbf408c",
   "metadata": {},
   "outputs": [],
   "source": [
    "def pad(last_block, size_block):\n",
    "    len_block = len(last_block)\n",
    "    padding_val = size_block - len_block\n",
    "    \n",
    "    #Size of padding in bits\n",
    "    padder = padding.PKCS7(padding_val*8).padder()\n",
    "    last_block = bytes(last_block,'utf-8')\n",
    "    \n",
    "    last_block = padder.update(last_block)\n",
    "    \n",
    "    last_block += padder.finalize()\n",
    "    \n",
    "    last_block = last_block.decode(\"utf-8\")\n",
    "    \n",
    "    return last_block, padding_val\n",
    "\n",
    "\n",
    "def encrypt(n, pwd, msg):    \n",
    "    \n",
    "    # Checks the value of n, and if the msg size is valid?\n",
    "    \n",
    "    NBytes = 8\n",
    "    \n",
    "    # generates a seed based on a password\n",
    "    cipher_key = generateSeed(bytes(pwd, 'utf-8'))\n",
    "    \n",
    "    # obtains the output of a pseudo-random generator based on a cipher_key\n",
    "    output = generator(n, cipher_key)\n",
    "    \n",
    "    #Break message into chunks of 8 bytes\n",
    "    block_plaintext = [msg[i:i+NBytes] for i in range(0, len(msg), NBytes)]    \n",
    "    \n",
    "    mod = len(msg) % NBytes\n",
    "\n",
    "    if(mod > 0):\n",
    "        coef = len(msg) // NBytes\n",
    "        padded_block, padded_size = pad(block_plaintext[coef], NBytes)\n",
    "        block_plaintext[coef] = padded_block\n",
    "    else:\n",
    "        padded_size = 0\n",
    "    \n",
    "    #Breaks the output of the generator into blocks of 8 bytes\n",
    "    block_output = [output[i:i+NBytes] for i in range(0, len(output), NBytes)]     \n",
    "  \n",
    "    # Aplies the XOR operation to the blocks\n",
    "    cipher = opXOR(block_plaintext, block_output)\n",
    "    \n",
    "    print(\"CIPHERTEXT: \"+cipher)\n",
    "        \n",
    "    # Obter Meta dados\n",
    "    metadata = os.urandom(16) # Temporário\n",
    "    pkg = {'ciphertext': cipher,'cipher_key': cipher_key, 'padsize': padded_size, 'metadata': metadata}\n",
    "    \n",
    "    return pkg\n",
    "\n",
    "    # encriptar metadados?"
   ]
  },
  {
   "cell_type": "markdown",
   "id": "d06b7857-bcc0-48d9-848d-ea5ae9368b57",
   "metadata": {},
   "source": [
    "Utilizaremos esta função auxiliar tanto para decifrar como para cifrar, dado que esta permite aplicar a operação XOR a dois conjuntos de blocos:"
   ]
  },
  {
   "cell_type": "code",
   "execution_count": 5,
   "id": "2849e99e-dbd9-4149-8a9b-d1882f47df14",
   "metadata": {},
   "outputs": [],
   "source": [
    "# msg, key are sepated in blocks\n",
    "def opXOR(msg, key):\n",
    "    output = \"\"\n",
    "    for msg_block, key_block in zip(msg, key):\n",
    "        for i, j in zip(msg_block, key_block):\n",
    "            word = ord(i) ^ j # Xor needs to be used between chars\n",
    "            output += chr(word) # Guardar esta word\n",
    "    return output"
   ]
  },
  {
   "cell_type": "markdown",
   "id": "61611955-6df7-4610-8ab2-570ce1229a72",
   "metadata": {},
   "source": [
    "## Decifrar:\n",
    "\n",
    "De forma a completar o modo da cifra é necessário implementar o método de decifrar o texto cifrado recebido. Para que esta descodificação seja possível, é necessário que o participante que pertende executar essa funcionalidade seja capaz de gerar a \"chave\" que foi usada para codificar a mensagem. Assim, este deverá receber a **cipher_key** usada para encriptar o plaintext.\n",
    "\n",
    "Com a **cipher_key**, deverá ser obtido o resultado de um gerador pseudo-aleatório. Com este resultado, iremos executar uma operação XOR a blocos de 64 bits do ciphertext e a 64 bits do output do gerador."
   ]
  },
  {
   "cell_type": "code",
   "execution_count": 6,
   "id": "130f3a41-c18f-43c4-b8b2-53995c09dc68",
   "metadata": {},
   "outputs": [],
   "source": [
    "def unpad(last_block, size_padding):\n",
    "    \n",
    "    unpadder = padding.PKCS7(size_padding*8).unpadder()\n",
    "    last_block = bytes(last_block,'utf-8')\n",
    "    \n",
    "    last_block = unpadder.update(last_block)\n",
    "    last_block += unpadder.finalize()\n",
    "    \n",
    "    last_block = last_block.decode(\"utf-8\")\n",
    "    \n",
    "    return last_block\n",
    "    \n",
    "\n",
    "def decrypt(pwd, msg, n):\n",
    "    \n",
    "    NBytes = 8\n",
    "    \n",
    "    ct = msg['ciphertext']\n",
    "    cipher_key = msg['cipher_key']\n",
    "    meta = msg['metadata']\n",
    "    padded_size = msg['padsize']\n",
    "   \n",
    "    output = generator(8, cipher_key)\n",
    "    \n",
    "    block_ciphertext = [ct[i:i+NBytes] for i in range(0, len(ct), NBytes)]        \n",
    "    block_output = [output[i:i+NBytes] for i in range(0, len(output), NBytes)]  \n",
    "    \n",
    "    if(padded_size > 0):\n",
    "        plaintext = opXOR(block_ciphertext[:-1], block_output[:-1])\n",
    "        coef = len(ct) // NBytes\n",
    "        last_cipherblock = block_ciphertext[coef]\n",
    "        last_outputblock = block_output[coef]\n",
    "        last_plainblock = opXOR([last_cipherblock], [last_outputblock])\n",
    "        unpadded_block = unpad(last_plainblock, padded_size)\n",
    "        plaintext += unpadded_block\n",
    "    \n",
    "    else:\n",
    "        plaintext = opXOR(block_ciphertext, block_output)    \n",
    "    \n",
    "    print(\"PLAINTEXT: \"+plaintext)"
   ]
  },
  {
   "cell_type": "markdown",
   "id": "0716e844-4cb2-4e72-b2e1-8bbc6429e594",
   "metadata": {},
   "source": [
    "## Classe de teste:\n",
    "\n",
    "Por último, definimos uma função de teste, onde teremos uma chamada da função de cifragem e uma chamada à função de decifragem, permitindo-nos testar se os métodos se encontram corretamente desenvolvidos."
   ]
  },
  {
   "cell_type": "code",
   "execution_count": 7,
   "id": "3e6c5d50-6c27-416e-98c1-e3073f2cb14e",
   "metadata": {},
   "outputs": [],
   "source": [
    "def teste (pwd, n, msg):\n",
    "    \n",
    "    ciphertext = encrypt (n, pwd, msg)\n",
    "    \n",
    "    decrypt (pwd, ciphertext, n)\n",
    "    \n",
    "    "
   ]
  },
  {
   "cell_type": "code",
   "execution_count": 8,
   "id": "44578840-718a-481c-8716-91627031f893",
   "metadata": {},
   "outputs": [
    {
     "name": "stdout",
     "output_type": "stream",
     "text": [
      "CIPHERTEXT: 4Yí:.JÇGª?}±âHÂjpÕ¶}³37\f",
      "ìmuËî0¬ v\u0013¢Jñ\t,E58\u001c",
      ">uÙÓuµ_\u0017>@Ê]vHvr\t¼\n",
      "PLAINTEXT: Esta mensagem é apenas um teste para verificar o funcionamento do programa.\n"
     ]
    }
   ],
   "source": [
    "teste (\"password\", 10, \"Esta mensagem é apenas um teste para verificar o funcionamento do programa.\")"
   ]
  }
 ],
 "metadata": {
  "kernelspec": {
   "display_name": "Python 3 (ipykernel)",
   "language": "python",
   "name": "python3"
  },
  "language_info": {
   "codemirror_mode": {
    "name": "ipython",
    "version": 3
   },
   "file_extension": ".py",
   "mimetype": "text/x-python",
   "name": "python",
   "nbconvert_exporter": "python",
   "pygments_lexer": "ipython3",
   "version": "3.9.13"
  }
 },
 "nbformat": 4,
 "nbformat_minor": 5
}
