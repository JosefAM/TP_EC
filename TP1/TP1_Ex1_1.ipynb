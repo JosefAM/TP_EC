{
 "cells": [
  {
   "cell_type": "markdown",
   "id": "c8ad44ba-2b77-4947-a1b1-7a0459a3db46",
   "metadata": {},
   "source": [
    "# Exercício 1"
   ]
  },
  {
   "cell_type": "markdown",
   "id": "bda064d3-6288-4ac2-a944-a2e91f9cfcea",
   "metadata": {
    "tags": []
   },
   "source": [
    "## Descrição do Problema:\n",
    "Para este primeiro exercício, foi nos pedido que implementassemos um comunicação privada assíncrona\n",
    "entre o emissor de uma mensagem (_Emitter_) e o respetivo recetor (_Receiver_).\n",
    "\n",
    "Para cifrar as mensagens deve-se utilizar uma cifra simétrica segura contra ataques aos \"nounces\", utilizando a autenticação da mensagem, do criptograma e dos metadados associados a ela; englobando-se, então, na classe __AEAD__ (_Authenticated Encryption with Associated Data_).\n",
    "Deste modo, o exercício englobará a implementação de duas funções, uma para __cifrar__ a mensagem, e outra,\n",
    "para __decifrar__.\n",
    "\n",
    "Adicionalmente, os _\"nounces\"_ criados devem ser gerados aleatoriamente\n",
    "para trazer mais segurança à cifra.\n",
    "\n",
    "No processo deverá occorrer dois tipos de autenticação:\n",
    "\n",
    "- Do criptograma e metadados, num modo _HMAC_, recorrendo ao uso de \"_nounces_\";\n",
    "- Dos participante após receber a mensagem (que se encontrará assinada pelo _sender_).\n",
    "\n",
    "As chaves utilizadas para cifrar a mensagem (_cipher_key_) e para calcular os códigos \n",
    "de autenticação do criptograma e metadados (_mac_key_) são para ser criadas recorrendo ao\n",
    "protocolo __ECDH__, acordadas entre os agentes.\n",
    "\n",
    "A assinaturas __ECDSA__ serão no âmbito de autenticar os agentes."
   ]
  },
  {
   "cell_type": "code",
   "execution_count": 1,
   "id": "ee3076a0-2f56-4087-8f64-e4044fe87435",
   "metadata": {
    "tags": []
   },
   "outputs": [],
   "source": [
    "# Todos os imports\n",
    "import os, json\n",
    "import asyncio\n",
    "import random\n",
    "from pickle import dumps, loads\n",
    "from cryptography.hazmat.primitives.asymmetric import ec\n",
    "from cryptography.hazmat.primitives import hashes, hmac, serialization\n",
    "from cryptography.hazmat.primitives.kdf.hkdf import HKDF\n",
    "from cryptography.hazmat.primitives.ciphers.aead import AESGCM\n",
    "\n",
    "# Para a porção de código associada com as queues (na comunicação entre participantes)\n",
    "import nest_asyncio\n",
    "\n",
    "nest_asyncio.apply()"
   ]
  },
  {
   "cell_type": "markdown",
   "id": "e4406730-d56b-4ba6-bedf-2d1d395771d5",
   "metadata": {
    "tags": []
   },
   "source": [
    "## Criação das chaves privadas/públicas\n",
    "\n",
    "Previamente foi mencionado que iremos desenvolver uma cifra simétrica com autenticação de mensagem e de metadados. \n",
    "\n",
    "Para que se possa construir uma cifra simétrica é necessário que os participantes da comunicação conhecem a chave com a qual deverão cifrar/decifrar as mensagens, dado que a mesma será usada para ambas operações. Contudo, a partilha de uma chave é uma operação bastante arriscada, dado que um atacante pode intersetar a mensagem, e passar a ter capacidade de ficar a conhecer todas as mensagens trocadas.  Para mitigar o risco desta operação, iremos utilizar o protocolo **ECDH** para obter duas chaves partilhadas, uma chave utilizada na cifragem da mensagem e outra na autenticação (_cipher_key_ e _mac_key_, respetivamente).\n",
    "\n",
    "Para que as chaves partilhadas possam ser criadas iremos necessitar que cada participante possua um par de chaves (__privada__ e __pública__), dado que estes são necessárias para o protocolo **ECDH**. A chave __privada__ é gerada sobre uma instância \n",
    "da __curva elíptica__, gerando uma chave do tipo _EllipticCurvePrivateKey_,\n",
    "retirada da biblioteca _cryptography_ e a chave __pública__ é criada a partir da privada.\n",
    "\n",
    "O método : \n",
    "```python \n",
    "def generateKeys()\n",
    "```\n",
    "cria e retorna estas duas chaves na forma de um __tuplo__ (_private_key, public_key_)."
   ]
  },
  {
   "cell_type": "code",
   "execution_count": 2,
   "id": "64d02561-ef57-42f0-bf97-78c8287ad236",
   "metadata": {
    "tags": []
   },
   "outputs": [],
   "source": [
    "def generateKeys():\n",
    "    curve = ec.SECP384R1()    \n",
    "    \n",
    "    private_key = ec.generate_private_key(curve)\n",
    "    public_key = private_key.public_key()\n",
    "\n",
    "    return private_key, public_key #{\"private\": private_key, \"public\": public_key}\n",
    "    "
   ]
  },
  {
   "cell_type": "markdown",
   "id": "16a6b432-c6b9-4c1d-94e0-45b5f799abb7",
   "metadata": {},
   "source": [
    "## Assinar mensagem\n",
    "\n",
    "No enunciado do exercício é indicado que as mensagens devem ser assinadas utilizando o algoritmo **ECDSA**. A assinatura gerada por este permite que o recetor possa verificar que a entidade que enviou a mensagem é o emissor com ele estava a comunicar.\n",
    "\n",
    "A assinatura digital é obtida através da chave privada de um utilizador e qualquer pessoa que possua a chave pública poderá verificar que a assinatura está associada à chave privada.\n",
    "\n",
    "O método permite assinar uma dada mensagem :\n",
    "```python\n",
    "def signMsg(prv_key, msg)\n",
    "```\n",
    "...sendo o atributo _prv_key_ a chave usada para assinar."
   ]
  },
  {
   "cell_type": "code",
   "execution_count": 3,
   "id": "144b7ec2-c51a-44f4-af7a-074033cc1edc",
   "metadata": {
    "tags": []
   },
   "outputs": [],
   "source": [
    "def signMsg(prv_key, msg):\n",
    "    \n",
    "    signature = prv_key.sign(\n",
    "    msg,\n",
    "    ec.ECDSA(hashes.SHA3_256()))\n",
    "        \n",
    "    return signature\n"
   ]
  },
  {
   "cell_type": "markdown",
   "id": "5882fa0f-180a-4c4b-b225-7fea6cf07ca1",
   "metadata": {},
   "source": [
    "## Criação das chaves partilhadas\n",
    "\n",
    "Como mencionamos anteriormente, nesta cifra simétrica iremos utilizar o protocolo **ECDH** para obter uma chave partilhada por ambos os participantes. Para obter esta chave é necessário que cada participante possua uma chave privada e uma chave pública. Este par de chaves foi obtido previamente.\n",
    "\n",
    "Cada participante deverá enviar ao outro participante duas chaves públicas, uma para cifrar a mensagem e outra para autenticação. Após terem recebido a chave pública do outro participante, será aplicada uma *exchange* entre as chaves. Desta forma obtemos duas chaves partilhadas *cipher\\_key* e *mac\\_key*\n",
    "\n",
    "Assim, cria-se o segredo partilhado entre os agentes para cifrar e autenticar os dados.\n",
    "\n",
    "O método:\n",
    "```python\n",
    "def generateShared(prv_cipher, peer_cipher, prv_mac, peer_mac)\n",
    "```\n",
    "... utiliza uma chave privada do agente e uma pública do seu _peer_ \n",
    "para cada chave.\n",
    "\n",
    "Neste caso, para cifrar:\n",
    "- _prv_cipher_ é a chave privada do próprio agente;\n",
    "- _peer_cipher_ é a chave pública do peer do agente.\n",
    "\n",
    "Para autenticar:\n",
    "- _prv_mac_ é a chave privada do próprio agente;\n",
    "- _peer_mac_ é a chave pública do peer do agente.\n",
    "\n",
    "... utiliza-se o método _exchange_ para criar a __chave privada__.\n",
    "\n",
    "Faz-se a derivação da chave para ter mais segurança, destruindo \n",
    "alguma possível estrutura que possa existir, ao \n",
    "adicionar mais informação à chave."
   ]
  },
  {
   "cell_type": "code",
   "execution_count": 4,
   "id": "db7fcab3-f728-4e40-b961-75a0788265fb",
   "metadata": {
    "tags": []
   },
   "outputs": [],
   "source": [
    "def generateShared(prv_cipher, peer_cipher, prv_mac, peer_mac):\n",
    "    \n",
    "    # Turn a string into a key\n",
    "    peer_cipher_key = serialization.load_pem_public_key(peer_cipher)\n",
    "    \n",
    "    # Create shared key for encrypting\n",
    "    cipher_key = prv_cipher.exchange(\n",
    "        ec.ECDH(), peer_cipher_key)\n",
    "    \n",
    "    # Perform key derivation for protection\n",
    "    cipher_derived_key = HKDF(\n",
    "        algorithm=hashes.SHA3_256(),\n",
    "        length=32,\n",
    "        salt=None,\n",
    "        info=b'handshake data',\n",
    "    ).derive(cipher_key)\n",
    "    \n",
    "    # Turn a string into a key \n",
    "    peer_mac_key = serialization.load_pem_public_key(peer_mac)\n",
    "    \n",
    "    # Create shared key for autentication\n",
    "    mac_key = prv_mac.exchange(\n",
    "        ec.ECDH(), peer_mac_key)\n",
    "    \n",
    "    # Perform key derivation\n",
    "    mac_derived_key = HKDF(\n",
    "        algorithm=hashes.SHA3_256(),\n",
    "        length=32,\n",
    "        salt=None,\n",
    "        info=b'handshake data',\n",
    "    ).derive(mac_key)\n",
    "    \n",
    "    return cipher_derived_key, mac_derived_key"
   ]
  },
  {
   "cell_type": "markdown",
   "id": "d28b5c99-e787-470b-aaf9-b2fbbaee793d",
   "metadata": {},
   "source": [
    "## Cifrar mensagem\n",
    "\n",
    "Neste caso, o método:\n",
    "```python\n",
    "def encrypt(msg, cipher_key, mac_key)\n",
    "```\n",
    "... utiliza a cifragem autenticada com \n",
    "dados associados (AEAD), com uma cifra por blocos \n",
    "num modo __GCM__ (_Galois Counter Mode_).\n",
    "Recorre-se à construção _AES-GCM_ da biblioteca \n",
    "_cryptography_, com a chave _cipher_key_ como\n",
    "seu argumento.\n",
    "\n",
    "Para o méotodo _encrypt_ é necessário proporcionar \n",
    "um _nounce_ e _associated data_. O _nounce_ é óbtido através de um __gerador pseudo aleatório__ \n",
    "(PRG), neste caso o com um algoritmo\n",
    "de _hashing SHA3_256()_. Quanto à _associated data_, esta é gerada \n",
    "com um número aleatório de 16 bits.\n",
    "\n",
    "Por fim, calcula-se o código para autenticação do criptograma\n",
    "e dos metadados associados, recorrendo a _mac_key_.\n",
    "\n",
    "O dicionário retornado pelo método inclui:\n",
    "- Texto cifrado\n",
    "- Código _HMAC_\n",
    "- _Nounce_ utilizado\n",
    "- _Associated data_"
   ]
  },
  {
   "cell_type": "code",
   "execution_count": 5,
   "id": "e6a3fb31-1bcb-4da9-8b57-07d86fe1fb8a",
   "metadata": {
    "tags": []
   },
   "outputs": [],
   "source": [
    "def encrypt(msg, cipher_key, mac_key):\n",
    "    \n",
    "    digest = hashes.Hash(hashes.SHA3_256())\n",
    "    nounce = digest.finalize()\n",
    "    \n",
    "    ad = os.urandom(16)\n",
    "    \n",
    "    aesgcm = AESGCM(cipher_key)\n",
    "    ct = aesgcm.encrypt(nounce, msg, ad)\n",
    "    \n",
    "    h = hmac.HMAC(mac_key, hashes.SHA3_256())\n",
    "    h.update(ct)\n",
    "    Hmac = h.finalize()\n",
    "    \n",
    "    return {\"cipher\": ct, \"HMAC\": Hmac, \"nounce\": nounce, \"ad\": ad}"
   ]
  },
  {
   "cell_type": "markdown",
   "id": "0ba7f5c9-23c9-4f15-a997-15640fe7e49d",
   "metadata": {},
   "source": [
    "## Decifrar mensagem\n",
    "\n",
    "Para decifrar, tem-se:\n",
    "- Verificar se o código _HMAC_ de autenticação;\n",
    "- Decifrar com o método _decrypt_.\n",
    "\n",
    "Para verificar se o código _HMAC_ está correto, i.e.\n",
    "validar a autenticação do agente, é calculado um novo \n",
    "código _HMAC_, utilizando a chave _mac_key_ do agente \n",
    "que está a decifrar.\n",
    "\n",
    "No caso de passar a autenticação:\n",
    "\n",
    "Utiliza o método _decrypt_, com o _nounce_,\n",
    "_associated data_ e o criptograma a decifrar."
   ]
  },
  {
   "cell_type": "code",
   "execution_count": 6,
   "id": "26ee61fd-0a61-483f-af38-ea7cb1df6a4c",
   "metadata": {
    "tags": []
   },
   "outputs": [],
   "source": [
    "def decrypt(cipher, Hmac, cipher_key, mac_key, nounce, ad):\n",
    "    \n",
    "    h = hmac.HMAC(mac_key, hashes.SHA3_256())\n",
    "    h.update(cipher)\n",
    "    h_new = h.finalize()\n",
    "    \n",
    "    aesgcm = AESGCM(cipher_key)\n",
    "    \n",
    "    if h_new == Hmac :\n",
    "        msg = aesgcm.decrypt(nounce, cipher, ad)\n",
    "        #print(msg)\n",
    "    \n",
    "    return msg"
   ]
  },
  {
   "cell_type": "markdown",
   "id": "865eb22c-a533-4f11-8013-dbfcc034887e",
   "metadata": {},
   "source": [
    "### Funções auxiliares para o Emitter/Receiver\n",
    "\n",
    "Encontra-se 3 métodos auxiliares para:\n",
    "- inicialização dos agentes;\n",
    "- Envio de mensagens;\n",
    "- Receção de mensagem.\n",
    "\n",
    "Os métodos para envio e receção de mensagens\n",
    "têm em consideração o código proporcionado\n",
    "pela equipa docente, em consideração das \n",
    "estruturas _queues_.\n",
    "\n",
    "O método para __inicialização__:\n",
    "- Cria os dois pares de chaves pública-privada (para cifrar, autenticar e assinar);\n",
    "- Serializa as chaves públicas (para enviar ao _peer_);\n",
    "- Retorna um tuplo com as três chaves e o pacote a enviar ao peer.\n",
    "\n",
    "...com o nome _init_comm()_."
   ]
  },
  {
   "cell_type": "code",
   "execution_count": 7,
   "id": "0a98bc11-d09c-464d-8653-a9f42d7ba097",
   "metadata": {
    "tags": []
   },
   "outputs": [],
   "source": [
    "def init_comm_emitter():\n",
    "    ## Gerar chaves (cifrar e autenticar + assinar)\n",
    "    prv_cipher_key, pub_cipher_key = generateKeys()\n",
    "    prv_mac_key, pub_mac_key = generateKeys()\n",
    "    prv_sign_key, pub_sign_key = generateKeys()\n",
    "    \n",
    "    ## Dicionário com a chavess públicas (serializadas)\n",
    "    msg = {'cipher_key': pub_cipher_key.public_bytes(encoding=serialization.Encoding.PEM,\n",
    "                                       format=serialization.PublicFormat.SubjectPublicKeyInfo\n",
    "                                    ), \n",
    "           'mac_key': pub_mac_key.public_bytes(encoding=serialization.Encoding.PEM,\n",
    "                                       format=serialization.PublicFormat.SubjectPublicKeyInfo\n",
    "                                    ),\n",
    "           'sign_key': pub_sign_key.public_bytes(encoding=serialization.Encoding.PEM,\n",
    "                                       format=serialization.PublicFormat.SubjectPublicKeyInfo\n",
    "                                    )\n",
    "            }\n",
    "    \n",
    "    return prv_cipher_key, prv_mac_key, prv_sign_key, msg\n",
    "\n",
    "def init_comm_receiver():\n",
    "    ## Gerar chaves (cifrar e autenticar)\n",
    "    prv_cipher_key, pub_cipher_key = generateKeys()\n",
    "    prv_mac_key, pub_mac_key = generateKeys()\n",
    "    \n",
    "    ## Dicionário com a chavess públicas (serializadas)\n",
    "    msg = {'cipher_key': pub_cipher_key.public_bytes(encoding=serialization.Encoding.PEM,\n",
    "                                       format=serialization.PublicFormat.SubjectPublicKeyInfo\n",
    "                                    ), \n",
    "           'mac_key': pub_mac_key.public_bytes(encoding=serialization.Encoding.PEM,\n",
    "                                       format=serialization.PublicFormat.SubjectPublicKeyInfo\n",
    "                                    )\n",
    "            }\n",
    "    \n",
    "    return prv_cipher_key, prv_mac_key, msg\n",
    "\n",
    "async def send(queue, msg):\n",
    "    \n",
    "    await asyncio.sleep(random.random())\n",
    "        \n",
    "    # put the item in the queue\n",
    "    await queue.put(msg)\n",
    "    \n",
    "    await asyncio.sleep(random.random())\n",
    "    \n",
    "async def receive(queue):\n",
    "    item = await queue.get()\n",
    "\n",
    "    await asyncio.sleep(random.random())\n",
    "    aux = loads(item)\n",
    "\n",
    "    return aux"
   ]
  },
  {
   "cell_type": "markdown",
   "id": "810fafa4-6320-4f14-8c3e-e109662d03ee",
   "metadata": {},
   "source": [
    "## Emitter"
   ]
  },
  {
   "cell_type": "code",
   "execution_count": 8,
   "id": "3bc3dbf6-b64a-48f3-aa5a-1c1fca5493a9",
   "metadata": {
    "tags": []
   },
   "outputs": [],
   "source": [
    "## Emitter Code\n",
    "async def emitter(plaintext, queue):\n",
    "    \n",
    "    ## Gerar as chaves (privada e publica) & partilhar com participante\n",
    "    prv_cipher_key, prv_mac_key, prv_sign_key, msg = init_comm_emitter()\n",
    "    \n",
    "    ## Enviar a chaves públicas para o peer\n",
    "    await send(queue, dumps(msg))\n",
    "    print(\"[E] SENDING PUBLIC KEYS\")\n",
    "    \n",
    "    ## Receber as chaves públicas do peer\n",
    "    msg = await receive(queue)\n",
    "    print(\"[E] RECEIVED PEER PUBLIC KEYS\")\n",
    "    \n",
    "    pub_peer_cipher = msg['cipher_key']\n",
    "    pub_peer_mac = msg['mac_key']\n",
    "    print(\"[E] Receiver pub_key_cipher: \" +str(msg['cipher_key']))\n",
    "    print(\"[E] Receiver pub_key_mac: \" +str(msg['mac_key']))\n",
    "    \n",
    "    ## Criar as chaves partilhadas (cifrar/autenticar)\n",
    "    cipher_shared, mac_shared = generateShared(prv_cipher_key, pub_peer_cipher,\n",
    "                                               prv_mac_key, pub_peer_mac )\n",
    "    \n",
    "    ## Cifrar a mensagem\n",
    "    pkg = encrypt(bytes(plaintext, 'utf-8'), cipher_shared, mac_shared)\n",
    "    print(\"[E] MESSAGE ENCRYPTED\")\n",
    "    \n",
    "    ## Assinar e enviar a mensagem\n",
    "    pkg_b = dumps(pkg)\n",
    "    sig = signMsg(prv_sign_key, pkg_b)\n",
    "    \n",
    "    # Enviar\n",
    "    msg_final = {'sig': sig, 'msg': dumps(pkg)}\n",
    "    \n",
    "    print(\"[E] SENDING MESSAGE\")\n",
    "    await send(queue, dumps(msg_final))\n",
    "    \n",
    "    print(\"[E] END\")"
   ]
  },
  {
   "cell_type": "markdown",
   "id": "314f1717-ee12-4d90-b46f-aeb4f8158838",
   "metadata": {},
   "source": [
    "## Receiver"
   ]
  },
  {
   "cell_type": "code",
   "execution_count": 9,
   "id": "68934d78-b019-4c77-a613-6261b6debaac",
   "metadata": {
    "tags": []
   },
   "outputs": [],
   "source": [
    "## Receiver Code\n",
    "async def receiver(queue):\n",
    "    \n",
    "    ## Gerar as chaves (privada e publica) & partilhar com participante\n",
    "    prv_cipher_key, prv_mac_key, msg = init_comm_receiver()\n",
    "    \n",
    "    ## Receber as chaves publicas do peer\n",
    "    pub_keys = await receive(queue)\n",
    "    \n",
    "    pub_peer_cipher = pub_keys['cipher_key']\n",
    "    pub_peer_mac = pub_keys['mac_key']\n",
    "    pub_peer_sign = pub_keys['sign_key']\n",
    "    \n",
    "    print(\"[R] Emitter pub_key_cipher: \" +str(pub_peer_cipher))\n",
    "    print(\"[R] Emitter pub_key_mac: \" +str(pub_peer_mac))\n",
    "    \n",
    "    ## Gerar shared keys\n",
    "    cipher_shared, mac_shared = generateShared(prv_cipher_key, pub_peer_cipher,\n",
    "                                               prv_mac_key, pub_peer_mac)\n",
    "\n",
    "    ## Enviar as chaves públicas ao peer\n",
    "    await send(queue, dumps(msg))\n",
    "    print(\"[R] AWAIT CIPHER\")\n",
    "    ciphertext = await receive(queue)\n",
    "    print(\"[R] CIPHER RECEIVED\")\n",
    "    \n",
    "    ## Receber a mensagem (Assinatura)\n",
    "    peer_sign_key = serialization.load_pem_public_key(pub_peer_sign)\n",
    "    \n",
    "    ## Validar a correçaõ da assinatura\n",
    "    peer_sign_key.verify(ciphertext['sig'], ciphertext['msg'], ec.ECDSA(hashes.SHA3_256()))\n",
    "       \n",
    "    msg_dict = loads(ciphertext['msg'])\n",
    "                      \n",
    "    ## Decifrar essa mensagem       \n",
    "    plain_text = decrypt(msg_dict['cipher'],msg_dict['HMAC'], cipher_shared, mac_shared, msg_dict['nounce'], msg_dict['ad'])\n",
    "    \n",
    "    ## Apresentar no terminal\n",
    "    print(\"[R] Plaintext: \" + plain_text.decode('utf-8'))\n",
    "       "
   ]
  },
  {
   "cell_type": "markdown",
   "id": "53be1775-3a5b-40a8-9b4f-cced49a5feb3",
   "metadata": {},
   "source": [
    "### Função \"main\" para teste da comunicação"
   ]
  },
  {
   "cell_type": "code",
   "execution_count": 10,
   "id": "040fcf81-f562-4c7e-b5a9-f3d43bcac8ab",
   "metadata": {
    "tags": []
   },
   "outputs": [
    {
     "name": "stdout",
     "output_type": "stream",
     "text": [
      "[R] Emitter pub_key_cipher: b'-----BEGIN PUBLIC KEY-----\\nMHYwEAYHKoZIzj0CAQYFK4EEACIDYgAEBxmtKmMScCrmVT+SiiNyyX1N4gzut5bO\\n9CdLH8DO5DSYZOrGlBUofkwWv4APyMMhwXy0c3x8CMEiKu54ENlW/yPWEv5JZx4B\\nA7IVWtS0L5gRHtZjBNFcydfMqQL0Y/RG\\n-----END PUBLIC KEY-----\\n'\n",
      "[R] Emitter pub_key_mac: b'-----BEGIN PUBLIC KEY-----\\nMHYwEAYHKoZIzj0CAQYFK4EEACIDYgAENAJIWqgdbvxqMQqQqWSxCni+LCCJLXfC\\nFKxL9tMCrtyW6a0CpKwuykG0OyX9g+3Sg+eOzTE9fucjc3yEKBKD/Hl+eBZpNniK\\nEMvI6T/Eq3aF2Id2BNs3IPbHJHKnvL9u\\n-----END PUBLIC KEY-----\\n'\n",
      "[E] SENDING PUBLIC KEYS\n",
      "[R] AWAIT CIPHER\n",
      "[E] RECEIVED PEER PUBLIC KEYS\n",
      "[E] Receiver pub_key_cipher: b'-----BEGIN PUBLIC KEY-----\\nMHYwEAYHKoZIzj0CAQYFK4EEACIDYgAEeUG9vh22YDNxGYiaJFGp9FJTt6qDK5wr\\nrbtWjC9Lt4XAK28bsYOoJHChWo+W8ZivvpE4Iw9iKpbTDb2QGQaBXQesQrvTXCMR\\nML+Evh6d+wDGP9B1wkUlr1L9AXM9MECi\\n-----END PUBLIC KEY-----\\n'\n",
      "[E] Receiver pub_key_mac: b'-----BEGIN PUBLIC KEY-----\\nMHYwEAYHKoZIzj0CAQYFK4EEACIDYgAE12wFWVpfV9ET0H2GPeWDFKyAIdEw/tXc\\n8gGApoZln8x7v6P426RWrBrhUR7C5THPAfm18i0jeof9PB8I1XV1VPIcPVI1Z0Kx\\nvlklwegDhhB3UATX4lIcj7+6D7pVuya8\\n-----END PUBLIC KEY-----\\n'\n",
      "[E] MESSAGE ENCRYPTED\n",
      "[E] SENDING MESSAGE\n",
      "[R] CIPHER RECEIVED\n",
      "[R] Plaintext: HELLO WORLD!\n"
     ]
    }
   ],
   "source": [
    "def test(msg):\n",
    "    loop = asyncio.get_event_loop()\n",
    "    queue = asyncio.Queue(10)\n",
    "    asyncio.ensure_future(emitter(msg, queue), loop=loop)\n",
    "    loop.run_until_complete(receiver(queue))\n",
    "    # emitter(msg)\n",
    "\n",
    "test(\"HELLO WORLD!\")"
   ]
  }
 ],
 "metadata": {
  "kernelspec": {
   "display_name": "Python 3 (ipykernel)",
   "language": "python",
   "name": "python3"
  },
  "language_info": {
   "codemirror_mode": {
    "name": "ipython",
    "version": 3
   },
   "file_extension": ".py",
   "mimetype": "text/x-python",
   "name": "python",
   "nbconvert_exporter": "python",
   "pygments_lexer": "ipython3",
   "version": "3.10.9"
  }
 },
 "nbformat": 4,
 "nbformat_minor": 5
}
