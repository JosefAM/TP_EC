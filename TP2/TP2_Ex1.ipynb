{
 "cells": [
  {
   "cell_type": "markdown",
   "id": "bac4a52e-a194-4be3-b09b-9ece24a1bad4",
   "metadata": {},
   "source": [
    "## Exercício 1\n",
    "\n",
    "Para este exercício, deveremos desenvolver uma classe que implementasse o algoritmo KEM-ElGamal utilizando SageMath\n"
   ]
  },
  {
   "cell_type": "markdown",
   "id": "9dd7f17d-56be-48ea-997c-acefc884f04c",
   "metadata": {},
   "source": [
    "### KEM El Gamal:\n",
    "\n",
    "Caso o protocolo DH key exchange seja convertido num KEM, este se designa El Gamal.\n",
    "\n",
    "1. KeyGen:\n",
    "    i. Parâmetros públicos, p, q, g como no protocolo DH\n",
    "    ii. A chave privada é a != 0 contida em Zq gerada aleatoriamente\n",
    "    iii. A chave pública é beta = g^a mod p\n",
    "\n",
    "\n",
    "\n"
   ]
  }
 ],
 "metadata": {
  "kernelspec": {
   "display_name": "Python 3 (ipykernel)",
   "language": "python",
   "name": "python3"
  },
  "language_info": {
   "codemirror_mode": {
    "name": "ipython",
    "version": 3
   },
   "file_extension": ".py",
   "mimetype": "text/x-python",
   "name": "python",
   "nbconvert_exporter": "python",
   "pygments_lexer": "ipython3",
   "version": "3.9.13"
  }
 },
 "nbformat": 4,
 "nbformat_minor": 5
}
