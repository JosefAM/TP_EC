{
 "cells": [
  {
   "cell_type": "markdown",
   "id": "bbcea9d8-cc89-4e78-aaa1-1f4fd0a2df21",
   "metadata": {},
   "source": [
    "## Exercise 3"
   ]
  },
  {
   "cell_type": "markdown",
   "id": "34988453-c702-4886-82d5-addacabee1ae",
   "metadata": {
    "tags": []
   },
   "source": [
    "### Descrição do Problema\n",
    "\n",
    "O objetivo deste exercício é desenvolver uma AEAD com \"Tweakable Block Ciphers”\", \n",
    "sendo a cifra usada do tipo AES-256 ou o ChaCha20.\n",
    "\n",
    "Esta cifra será usada num canal privade de informação assíncrona com acordo de chaves.\n",
    "A autenticação dos agentes será com:\n",
    " - “X448 key exchange”\n",
    " - “Ed448 Signing&Verification” \n",
    " \n",
    "... e deve haver uma fase de confirmação da chave acordada.\n",
    "\n",
    "\n",
    "Ou seja,\n",
    "\n",
    "Use o “package” Cryptography para\n",
    "1. Implementar uma AEAD com “Tweakable Block Ciphers” conforme está descrito na última secção do texto +Capítulo 1: Primitivas Criptográficas Básicas.  A cifra por blocos primitiva, usada para gerar a “tweakable block cipher”, é o AES-256 ou o ChaCha20.\n",
    "2. Use esta cifra para construir um canal privado de informação assíncrona com acordo de chaves feito com “X448 key exchange” e “Ed448 Signing&Verification” para autenticação  dos agentes. Deve incluir uma fase de confirmação da chave acordada."
   ]
  },
  {
   "cell_type": "code",
   "execution_count": 5,
   "id": "8bd37937-9fc0-4e3e-8360-3826ba5aedbf",
   "metadata": {
    "tags": []
   },
   "outputs": [],
   "source": [
    "#Imports necessários\n",
    "import os\n",
    "import asyncio\n",
    "import random\n",
    "from cryptography.hazmat.primitives.asymmetric import ec\n",
    "from cryptography.hazmat.primitives import hashes\n",
    "from cryptography.hazmat.primitives.asymmetric.x448 import X448PrivateKey\n",
    "from cryptography.hazmat.primitives.asymmetric.ed448 import Ed448PrivateKey"
   ]
  },
  {
   "cell_type": "markdown",
   "id": "bc68d053-7b4a-4a92-86b3-a0c025d718fd",
   "metadata": {},
   "source": [
    "## Criação das chaves privadas/públicas\n",
    "\n",
    "O acordo de chaves, como indicado no enunciado, deve ser feito com __\"X448 key exchange\"__.\n",
    "\n",
    "Para tal é necessário que cada um dos agentes criem as suas próprias chaves (privada-pública).\n",
    "\n",
    "Neste caso será usando a __curva448__, como \n",
    "apresentado na API:\n",
    "- https://cryptography.io/en/latest/hazmat/primitives/asymmetric/x448/\n",
    "\n",
    "A chave resultante será usada no decorrer da comunicação assíncrona entre agentes para __cifrar/decifrar__ os dados."
   ]
  },
  {
   "cell_type": "code",
   "execution_count": 2,
   "id": "b59d5d54-05ac-49ec-8326-7d0338549cac",
   "metadata": {
    "tags": []
   },
   "outputs": [],
   "source": [
    "def generateKeys():\n",
    "    # Generate private key for exchange\n",
    "    prv_key = x448.X448PrivateKey.generate()\n",
    "    \n",
    "    # Generate public key thorugh private key\n",
    "    pub_key = private_key.public_key()\n",
    "    \n",
    "    return prv_key, pub_key\n",
    "    "
   ]
  },
  {
   "cell_type": "markdown",
   "id": "f6e4b79d-35c7-4835-9fef-378912bcd79f",
   "metadata": {},
   "source": [
    "## Criação das chaves partilhadas\n",
    "\n",
    "Após ter as chaves de cada agente (privada/pública), podemos estabelecer\n",
    "o _exchange_, i.e o acordo entre ambos agentes,\n",
    "sobre um segredo partilhado.\n",
    "\n",
    "A _shared_key_ criada, tal como recomendado na API, deve ser passada por uma função de derivação, no âmbito de a tornar mais segura; adicionando mais informações à chave para destruir qualquer estrutura que possa ser criada.\n",
    "\n",
    "Será criada uma _shared_key_, a ser usada no âmbito da cifra. "
   ]
  },
  {
   "cell_type": "code",
   "execution_count": 4,
   "id": "13beb159-d999-495b-9328-8d39c1d6c702",
   "metadata": {
    "tags": []
   },
   "outputs": [],
   "source": [
    "def generateShared(prv_key_, peer_key):\n",
    "    \n",
    "    # Gerar uma chave partilha para cifra\n",
    "    cipher_key = prv_key.exchange(peer_key)\n",
    "    \n",
    "    derived_key = HKDF(\n",
    "        algorithm=hashes.SHA256(),\n",
    "        length=32,\n",
    "        salt=None,\n",
    "        info=b'handshake data',\n",
    "    ).derive(cipher_key)\n",
    "    \n",
    "    return cipher_key"
   ]
  },
  {
   "cell_type": "markdown",
   "id": "9600d3b9-cd96-4f4c-a716-f959c3eeb58d",
   "metadata": {},
   "source": [
    "## Assinar mensagem\n",
    "\n",
    "A autenticação dos agentes é realizada com \n",
    "__“Ed448 Signing&Verification”__; sendo este um \n",
    "algoritmo de assinaturas com recurso ao __EdDSA__ (_Edwards-curve Digital Signature Algorithm_).\n",
    "\n",
    "Para tal é necessário um novo par de chaves (privada/pública), do tipo _Ed448_, para cada um dos agentes.\n",
    "\n",
    "Para recorrer aos meios apresentados em:\n",
    "- https://cryptography.io/en/latest/hazmat/primitives/asymmetric/ed448/\n",
    "\n",
    "As chaves públicas devem ser partilhadas por ambos, de \n",
    "modo a validar a __assinatura__ da mensagem que receberam.\n",
    "Sendo a assinatura realizada através da chave privada do agente,\n",
    "a enviar a mensagem.\n",
    "\n",
    "Criou-se um método particular para gerar as chaves de autenticação dos agentes, para facilitar e tornar o código mais _readable_."
   ]
  },
  {
   "cell_type": "code",
   "execution_count": 6,
   "id": "2138cd21-4557-4b6d-87e2-4fc02c1ade78",
   "metadata": {
    "tags": []
   },
   "outputs": [],
   "source": [
    "def generateSignKeys():\n",
    "    \n",
    "    ## Chave privada para assinar\n",
    "    private_key = Ed448PrivateKey.generate()\n",
    "    ## Chave pública para autenticar\n",
    "    public_key = private_key.public_key()\n",
    "    \n",
    "    return private_key, public_key\n",
    "    \n",
    "def signMsg(prv_key, msg):\n",
    "    \n",
    "    signature = private_key.sign(msg)\n",
    "    \n",
    "    return signature"
   ]
  },
  {
   "cell_type": "markdown",
   "id": "820ccbc9-3e1a-49cb-b60e-c6c47e9a1a32",
   "metadata": {},
   "source": [
    "## Cifrar mensagem"
   ]
  },
  {
   "cell_type": "code",
   "execution_count": null,
   "id": "89287ad6-6cf3-4c44-a8e2-60f6fe126664",
   "metadata": {},
   "outputs": [],
   "source": [
    "def encrypt:\n",
    "    "
   ]
  },
  {
   "cell_type": "markdown",
   "id": "09babf2b-9ff5-4d90-8da8-f665ab0ef4c4",
   "metadata": {},
   "source": [
    "## Decifrar mensagem"
   ]
  },
  {
   "cell_type": "code",
   "execution_count": null,
   "id": "b13af813-0ada-4413-bf18-ebc4ca827046",
   "metadata": {},
   "outputs": [],
   "source": [
    "def decrypt:\n",
    "    "
   ]
  },
  {
   "cell_type": "markdown",
   "id": "686d4f44-cf9c-4776-bcba-6ecc847ad5bc",
   "metadata": {},
   "source": [
    "## Funções auxiliares para o canal de comunicação"
   ]
  },
  {
   "cell_type": "code",
   "execution_count": 10,
   "id": "b98c7b45-054c-4eb6-89ca-ad2401a1fc45",
   "metadata": {
    "tags": []
   },
   "outputs": [],
   "source": [
    "def init_comm_emitter():\n",
    "    ## Gerar chaves (cifrar e autenticar)\n",
    "    prv_cipher_key, pub_cipher_key = generateKeys()\n",
    "    prv_sign_key, pub_sign_key = generateSignKeys()\n",
    "    \n",
    "    ## Dicionário com a chavess públicas (serializadas)\n",
    "    msg = {'cipher_key': pub_cipher_key.public_bytes(encoding=serialization.Encoding.PEM,\n",
    "                                       format=serialization.PublicFormat.SubjectPublicKeyInfo\n",
    "                                    ), \n",
    "           'sign_key': pub_sign_key.public_bytes(encoding=serialization.Encoding.PEM,\n",
    "                                       format=serialization.PublicFormat.SubjectPublicKeyInfo\n",
    "                                    )\n",
    "            }\n",
    "    \n",
    "    return prv_cipher_key, pub_cipher_key, prv_mac_key, pub_mac_key, msg\n",
    "\n",
    "def init_comm_receiver():\n",
    "    ## Gerar chaves (cifrar e autenticar)\n",
    "    prv_cipher_key, pub_cipher_key = generateKeys()\n",
    "    \n",
    "    ## Dicionário com a chavess públicas (serializadas)\n",
    "    msg = {'cipher_key': pub_cipher_key.public_bytes(encoding=serialization.Encoding.PEM,\n",
    "                                       format=serialization.PublicFormat.SubjectPublicKeyInfo\n",
    "                                    )\n",
    "          } \n",
    "    \n",
    "    return prv_cipher_key, pub_cipher_key, msg\n",
    "\n",
    "async def send(queue, msg):\n",
    "    \n",
    "    await asyncio.sleep(random.random())\n",
    "        \n",
    "    # put the item in the queue\n",
    "    await queue.put(msg)\n",
    "    \n",
    "    await asyncio.sleep(random.random())\n",
    "    \n",
    "async def receive(queue):\n",
    "    item = await queue.get()\n",
    "\n",
    "    await asyncio.sleep(random.random())\n",
    "    aux = loads(item)\n",
    "\n",
    "    return aux"
   ]
  },
  {
   "cell_type": "markdown",
   "id": "6051b0d4-9f32-4433-b8ad-7886dd1d7269",
   "metadata": {},
   "source": [
    "## Emitter"
   ]
  },
  {
   "cell_type": "code",
   "execution_count": null,
   "id": "94c54479-cbb3-4e92-a975-42411017fcec",
   "metadata": {},
   "outputs": [],
   "source": [
    "## Emitter Code\n",
    "async def emitter(plaintext, queue):\n",
    "    \n",
    "    ## Gerar as chaves (privada e publica) & partilhar com participante\n",
    "    prv_cipher_key, pub_cipher_key, prv_sign_key, pub_sign_key, msg = init_comm_emitter()\n",
    "    \n",
    "    ## Enviar a chaves públicas para o peer\n",
    "    await send(queue, dumps(msg))\n",
    "    print(\"[E] SENDING PUBLIC KEYS\")\n",
    "    \n",
    "    ## Receber as chaves públicas do peer\n",
    "    msg = await receive(queue)\n",
    "    print(\"[E] RECEIVED PEER PUBLIC KEYS\")\n",
    "    \n",
    "    pub_peer_cipher = msg['cipher_key']\n",
    "    print(\"[E] Receiver pub_key_cipher: \" +str(msg['cipher_key']))\n",
    "    \n",
    "    ## Criar as chaves partilhadas (cifrar/autenticar)\n",
    "    cipher_shared = generateShared(prv_cipher_key, pub_peer_cipher)\n",
    "    \n",
    "    ## Cifrar a mensagem\n",
    "    pkg = encrypt(bytes(plaintext, 'utf-8'), cipher_shared, mac_shared)\n",
    "    print(\"[E] MESSAGE ENCRYPTED\")\n",
    "    \n",
    "    ## Assinar e enviar a mensagem\n",
    "    pkg_b = dumps(pkg)\n",
    "    sig = signMsg(prv_cipher_key, pkg_b)\n",
    "    \n",
    "    # Enviar\n",
    "    msg_final = {'sig': sig, 'msg': dumps(pkg)}\n",
    "    \n",
    "    print(\"[E] SENDING MESSAGE\")\n",
    "    await send(queue, dumps(msg_final))\n",
    "    \n",
    "    print(\"[E] END\")"
   ]
  },
  {
   "cell_type": "markdown",
   "id": "f7bb9737-36a9-4a94-987b-8798a21d9b30",
   "metadata": {},
   "source": [
    "## Receiver"
   ]
  },
  {
   "cell_type": "code",
   "execution_count": 11,
   "id": "16eeb46d-75de-46a9-8fa2-67f0d971d556",
   "metadata": {
    "tags": []
   },
   "outputs": [],
   "source": [
    "## Receiver Code\n",
    "async def receiver(queue):\n",
    "    \n",
    "    ## Gerar as chaves (privada e publica) & partilhar com participante\n",
    "    prv_cipher_key, pub_cipher_key, msg = init_comm_receiver()\n",
    "    \n",
    "    ## Receber as chaves publicas do peer\n",
    "    pub_keys = await receive(queue)\n",
    "    \n",
    "    pub_peer_cipher = pub_keys['cipher_key']\n",
    "    pub_peer_sign = pub_keys['sign_key']\n",
    "    \n",
    "    print(\"[R] Emitter pub_key_cipher: \" +str(pub_peer_cipher))\n",
    "    print(\"[R] Emitter pub_key_sign: \" +str(pub_peer_sign))\n",
    "    \n",
    "    ## Gerar shared keys\n",
    "    cipher_shared = generateShared(prv_cipher_key, pub_peer_cipher)\n",
    "\n",
    "    ## Enviar as chaves públicas ao peer\n",
    "    await send(queue, dumps(msg))\n",
    "    print(\"[R] AWAIT CIPHER\")\n",
    "    ciphertext = await receive(queue)\n",
    "    print(\"[R] CIPHER RECEIVED\")\n",
    "    \n",
    "    ## Receber a mensagem (Assinatura)\n",
    "    peer_cipher_key = serialization.load_pem_public_key(pub_peer_cipher)\n",
    "    \n",
    "    ## Validar a correçaõ da assinatura\n",
    "    peer_cipher_key.verify(ciphertext['sig'], ciphertext['msg'], ec.ECDSA(hashes.SHA3_256()))\n",
    "       \n",
    "    msg_dict = loads(ciphertext['msg'])\n",
    "                      \n",
    "    ## Decifrar essa mensagem       \n",
    "    plain_text = decrypt(msg_dict['cipher'],msg_dict['HMAC'], cipher_shared, mac_shared, msg_dict['nounce'], msg_dict['ad'])\n",
    "    \n",
    "    ## Apresentar no terminal\n",
    "    print(\"[R] Plaintext: \" + plain_text.decode('utf-8'))\n",
    "       "
   ]
  },
  {
   "cell_type": "code",
   "execution_count": null,
   "id": "7865fb9a-e399-447a-abe3-b2b396cfbaf0",
   "metadata": {},
   "outputs": [],
   "source": [
    "def test(msg):\n",
    "    loop = asyncio.get_event_loop()\n",
    "    queue = asyncio.Queue(10)\n",
    "    asyncio.ensure_future(emitter(msg, queue), loop=loop)\n",
    "    loop.run_until_complete(receiver(queue))\n",
    "    # emitter(msg)\n",
    "\n",
    "test(\"HELLO WORLD!\")"
   ]
  }
 ],
 "metadata": {
  "kernelspec": {
   "display_name": "Python 3 (ipykernel)",
   "language": "python",
   "name": "python3"
  },
  "language_info": {
   "codemirror_mode": {
    "name": "ipython",
    "version": 3
   },
   "file_extension": ".py",
   "mimetype": "text/x-python",
   "name": "python",
   "nbconvert_exporter": "python",
   "pygments_lexer": "ipython3",
   "version": "3.10.9"
  }
 },
 "nbformat": 4,
 "nbformat_minor": 5
}
